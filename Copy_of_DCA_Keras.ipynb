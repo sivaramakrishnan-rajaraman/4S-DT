{
  "nbformat": 4,
  "nbformat_minor": 0,
  "metadata": {
    "colab": {
      "name": "Copy of DCA_Keras.ipynb",
      "provenance": [],
      "collapsed_sections": [],
      "include_colab_link": true
    },
    "kernelspec": {
      "name": "python3",
      "display_name": "Python 3"
    },
    "language_info": {
      "name": "python"
    }
  },
  "cells": [
    {
      "cell_type": "markdown",
      "metadata": {
        "id": "view-in-github",
        "colab_type": "text"
      },
      "source": [
        "<a href=\"https://colab.research.google.com/github/sivaramakrishnan-rajaraman/4S-DT/blob/master/Copy_of_DCA_Keras.ipynb\" target=\"_parent\"><img src=\"https://colab.research.google.com/assets/colab-badge.svg\" alt=\"Open In Colab\"/></a>"
      ]
    },
    {
      "cell_type": "code",
      "metadata": {
        "id": "f9mNjtNKhYEa"
      },
      "source": [
        "import keras\n",
        "import numpy as np\n",
        "import keras.backend as K\n",
        "import tensorflow as tf"
      ],
      "execution_count": null,
      "outputs": []
    },
    {
      "cell_type": "code",
      "metadata": {
        "id": "Kvezmbuthf3r"
      },
      "source": [
        "def dca_loss(y_true, y_pred, beta=1):\n",
        "    # y_true: one-hot encoding\n",
        "    # y_pred: predicted probability (i.e., softmax(logits))\n",
        " \n",
        "    ## calculating cross-entropy loss ##\n",
        "    loss_ce = K.mean(keras.losses.categorical_crossentropy(y_true, y_pred)) \n",
        "    \n",
        "    ## calculating the DCA term ##\n",
        "    # get gt labels\n",
        "    gt_labels = tf.argmax(y_true, axis=1).numpy()\n",
        "    # get pred labels\n",
        "    pred_labels = tf.argmax(y_pred, axis=1).numpy()\n",
        "    # get accuracy \n",
        "    acc = np.sum(gt_labels==pred_labels)/len(gt_labels)\n",
        "    # get pred mean prob\n",
        "    temp_prop = 0\n",
        "    for i in range(len(y_true)):\n",
        "      temp_prop+=y_pred[i, pred_labels[i]]\n",
        "    prob = temp_prop/len(y_true)\n",
        "    # calculating dca\n",
        "    dca = np.abs(acc-prob)\n",
        "\n",
        "    loss = loss_ce + beta*dca\n",
        "    \n",
        "    return loss"
      ],
      "execution_count": null,
      "outputs": []
    },
    {
      "cell_type": "markdown",
      "metadata": {
        "id": "S0vCqTMpochC"
      },
      "source": [
        "This script demonstrates the Keras version of the proposed loss function."
      ]
    },
    {
      "cell_type": "code",
      "metadata": {
        "colab": {
          "base_uri": "https://localhost:8080/"
        },
        "id": "71uyvtMhiGwb",
        "outputId": "f6a8dc10-22f0-4097-cb72-5d649be59d05"
      },
      "source": [
        "y_true = tf.convert_to_tensor([[0, 1, 0], [0, 0, 1]]) # one-hot\n",
        "y_pred = tf.convert_to_tensor([[0.05, 0.95, 0], [0.1, 0.8, 0.1]]) # probability\n",
        "\n",
        "dca_loss(y_true, y_pred)"
      ],
      "execution_count": null,
      "outputs": [
        {
          "output_type": "execute_result",
          "data": {
            "text/plain": [
              "<tf.Tensor: shape=(), dtype=float32, numpy=1.5519392>"
            ]
          },
          "metadata": {},
          "execution_count": 3
        }
      ]
    }
  ]
}